{
 "cells": [
  {
   "cell_type": "code",
   "execution_count": 2,
   "metadata": {},
   "outputs": [
    {
     "name": "stdout",
     "output_type": "stream",
     "text": [
      "2.770593651084598\n"
     ]
    }
   ],
   "source": [
    "import numpy as np\n",
    "import math\n",
    "summ=0\n",
    "for i in range (100):\n",
    "    x=np.random.uniform(0,1)\n",
    "    y=np.random.uniform(math.exp(-1),1)\n",
    "    if (y<math.exp(-x)):\n",
    "        summ+=1\n",
    "S_total=1*(1-math.exp(-1))\n",
    "S=(summ/100)*S_total\n",
    "nepper=2/(1-S)\n",
    "print(nepper)"
   ]
  },
  {
   "cell_type": "code",
   "execution_count": 5,
   "metadata": {},
   "outputs": [
    {
     "name": "stdout",
     "output_type": "stream",
     "text": [
      "2.710341430570391\n"
     ]
    }
   ],
   "source": [
    "import numpy as np\n",
    "import math\n",
    "def nepper_calculator(n):\n",
    "    i=1\n",
    "    summ=0\n",
    "    for i in range (n):\n",
    "        x=np.random.uniform(0,1)\n",
    "        y=np.random.uniform(math.exp(-1),1)\n",
    "        if (y<math.exp(-x)):\n",
    "            summ+=1\n",
    "    S_total=1*(1-math.exp(-1))\n",
    "    S=(summ/100)*S_total\n",
    "    nepper=2/(1-S)\n",
    "    return nepper\n",
    "summ=0\n",
    "E=0\n",
    "n=100\n",
    "for i in range(n):\n",
    "    summ+=nepper_calculator(n)\n",
    "E=summ/n\n",
    "print(E)  "
   ]
  },
  {
   "cell_type": "code",
   "execution_count": 11,
   "metadata": {},
   "outputs": [
    {
     "name": "stdout",
     "output_type": "stream",
     "text": [
      "2.836837560579783\n"
     ]
    },
    {
     "data": {
      "image/png": "[encoded data removed]",
      "text/plain": [
       "<Figure size 432x288 with 1 Axes>"
      ]
     },
     "metadata": {
      "needs_background": "light"
     },
     "output_type": "display_data"
    }
   ],
   "source": [
    "import numpy as np\n",
    "import math\n",
    "def nepper_calculator(n):\n",
    "    i=1\n",
    "    summ=0\n",
    "    for i in range (n):\n",
    "        x=np.random.uniform(0,1)\n",
    "        y=np.random.uniform(math.exp(-1),1)\n",
    "        if (y<math.exp(-x)):\n",
    "            summ+=1\n",
    "    S_total=1*(1-math.exp(-1))\n",
    "    S=(summ/n)*S_total\n",
    "    nepper=2/(1-S)\n",
    "    return nepper\n",
    "n=1\n",
    "E=[]\n",
    "while (n<=100):\n",
    "    Sn=0\n",
    "    for j in range(n):\n",
    "        Sn+=nepper_calculator(n)\n",
    "    E.append(Sn/n)\n",
    "    n+=1\n",
    "    \n",
    "import matplotlib.pyplot as plt\n",
    "x=np.linspace(1,100,100)\n",
    "plt.plot(x,E)\n",
    "plt.show()\n"
   ]
  },
  {
   "cell_type": "code",
   "execution_count": null,
   "metadata": {},
   "outputs": [],
   "source": [
    "summ=0\n",
    "for i in range(n):\n",
    "    summ+=nepper_calculator(n)\n",
    "E=summ/n\n",
    "sum_var=0\n",
    "for i in range(n):\n",
    "    sum_var+=(nepper_calculator(n)-E)**2\n",
    "variance=sum_var/n\n"
   ]
  },
  {
   "cell_type": "code",
   "execution_count": null,
   "metadata": {},
   "outputs": [],
   "source": [
    "import numpy as np\n",
    "import math\n",
    "def nepper_calculator(n):\n",
    "    i=1\n",
    "    summ=0\n",
    "    for i in range (n):\n",
    "        x=np.random.uniform(0,1)\n",
    "        y=np.random.uniform(math.exp(-1),1)\n",
    "        if (y<math.exp(-x)):\n",
    "            summ+=1\n",
    "    S_total=1*(1-math.exp(-1))\n",
    "    S=(summ/n)*S_total\n",
    "    nepper=2/(1-S)\n",
    "    return nepper\n",
    "n=1\n",
    "E=[]\n",
    "Xi=[]\n",
    "while (n<=100):\n",
    "    Sn=0\n",
    "    for j in range(n):\n",
    "        Sn+=nepper_calculator(n)\n",
    "        Xi.append(nepper_calculator(n))\n",
    "    E.append(Sn/n)\n",
    "    n+=1\n",
    "\n",
    "var=[]\n",
    "n=1\n",
    "while (n<=100):\n",
    "    var.append((Xi[n-1]-E)**2)\n",
    "    n+=1\n",
    "variance=sum(var)/99\n",
    "\n",
    "import matplotlib.pyplot as plt\n",
    "x=np.linspace(1,100,100)\n",
    "plt.plot(x,)\n",
    "plt.show()"
   ]
  }
 ],
 "metadata": {
  "kernelspec": {
   "display_name": "Python 3",
   "language": "python",
   "name": "python3"
  },
  "language_info": {
   "codemirror_mode": {
    "name": "ipython",
    "version": 3
   },
   "file_extension": ".py",
   "mimetype": "text/x-python",
   "name": "python",
   "nbconvert_exporter": "python",
   "pygments_lexer": "ipython3",
   "version": "3.8.5"
  }
 },
 "nbformat": 4,
 "nbformat_minor": 4
}

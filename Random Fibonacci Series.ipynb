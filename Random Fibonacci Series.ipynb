{
 "cells": [
  {
   "cell_type": "code",
   "execution_count": 29,
   "metadata": {},
   "outputs": [
    {
     "name": "stdout",
     "output_type": "stream",
     "text": [
      "CI=[ 1.102852823326828 , 1.237871185627803 ]\n"
     ]
    }
   ],
   "source": [
    "import numpy as np\n",
    "import math\n",
    "import matplotlib.pyplot as plt\n",
    "\n",
    "\n",
    "def fibonacci(n):\n",
    "    l=[-1,1]\n",
    "    B=np.random.choice(l)\n",
    "    if n < 0:\n",
    "        print(\"incorrect input\")\n",
    "    elif n == 0:\n",
    "        return 0\n",
    "    elif n == 1 or n == 2:\n",
    "        return 1\n",
    "    else:\n",
    "        print\n",
    "        return fibonacci(n-1) + B*fibonacci(n-2)\n",
    "\n",
    "summ=0\n",
    "N=10\n",
    "num=20\n",
    "sample=[]\n",
    "for i in range(num):\n",
    "    Xi=np.abs(fibonacci(N))\n",
    "    Xi=Xi**(1/N)\n",
    "    summ+=Xi\n",
    "    sample.append(Xi)\n",
    "M=summ/num\n",
    "S=0\n",
    "for i in range(num):\n",
    "    S+=(sample[i]-M)**2/(num-1)\n",
    "S=S**0.5\n",
    "print('CI=[',M-(1.96*S/(N**0.5)),',',M+(1.96*S/(N**0.5)),']')"
   ]
  },
  {
   "cell_type": "code",
   "execution_count": 66,
   "metadata": {},
   "outputs": [
    {
     "name": "stdout",
     "output_type": "stream",
     "text": [
      "0.016825103053756205\n"
     ]
    }
   ],
   "source": [
    "def fib_max(n):\n",
    "    a = 0\n",
    "    b = 1\n",
    "    summ = 1\n",
    "    count = 1\n",
    "    fib_25=[]\n",
    "    l=[-1,1]\n",
    "    while(count <= n):\n",
    "        fib_25.append(summ)\n",
    "        a = b\n",
    "        b = summ\n",
    "        B=np.random.choice(l)\n",
    "        summ = a + B*b\n",
    "        count += 1\n",
    "    return max(fib_25)\n",
    "\n",
    "sample_max=[]\n",
    "for j in range(200):\n",
    "    sample_max.append(fib_max(25))\n",
    "lambda_=200/(sum(sample_max))\n",
    "print(lambda_)"
   ]
  },
  {
   "cell_type": "code",
   "execution_count": 103,
   "metadata": {},
   "outputs": [
    {
     "data": {
      "image/png": "[encoded data removed]",
      "text/plain": [
       "<Figure size 432x288 with 1 Axes>"
      ]
     },
     "metadata": {
      "needs_background": "light"
     },
     "output_type": "display_data"
    }
   ],
   "source": [
    "plot_sample=[]\n",
    "for j in range(200):\n",
    "    plot_sample.append(fib_max(25))\n",
    "lambda_=200/(sum(plot_sample))\n",
    "\n",
    "plt.hist(plot_sample,bins=20,density=True,range=[0,200])\n",
    "def f(x): \n",
    "    return (lambda_*math.exp(-1*landa*x))\n",
    "f2 = np.vectorize(f) \n",
    "x = np.arange(0,200,0.1) \n",
    "plt.plot(x, f2(x),color='orange') \n",
    "plt.show()"
   ]
  },
  {
   "cell_type": "code",
   "execution_count": null,
   "metadata": {},
   "outputs": [],
   "source": [
    "import numpy as np\n",
    "import math\n",
    "import matplotlib.pyplot as plt\n",
    "def fib_max(n):\n",
    "    a = 0\n",
    "    b = 1\n",
    "    summ = 1\n",
    "    count = 1\n",
    "    fibb=[]\n",
    "    l=[-1,1]\n",
    "    while(count <= n):\n",
    "        fibb.append(summ)\n",
    "        a = b\n",
    "        b = summ\n",
    "        B=np.random.choice(l)\n",
    "        summ = a + B*b\n",
    "        count += 1\n",
    "    return max(fibb)\n",
    "\n",
    "\n",
    "def Ex (n):\n",
    "    sample_max=[]\n",
    "    for i in range(50):\n",
    "        landa_mean=[]\n",
    "        for j in range(200):\n",
    "            sample_max.append(fib_max(n))\n",
    "        landa_mean.append(200/(sum(sample_max)))\n",
    "    E_landa=sum(landa_mean)/50\n",
    "    return E_landa\n",
    "\n",
    "num=10\n",
    "y=[]\n",
    "while(num<=40):\n",
    "    y.append(Ex(num))\n",
    "    num+=1\n",
    "x=np.linspace(10,40,31)\n",
    "plt.plot(x,y)\n",
    "plt.show()"
   ]
  }
 ],
 "metadata": {
  "kernelspec": {
   "display_name": "Python 3",
   "language": "python",
   "name": "python3"
  },
  "language_info": {
   "codemirror_mode": {
    "name": "ipython",
    "version": 3
   },
   "file_extension": ".py",
   "mimetype": "text/x-python",
   "name": "python",
   "nbconvert_exporter": "python",
   "pygments_lexer": "ipython3",
   "version": "3.8.5"
  }
 },
 "nbformat": 4,
 "nbformat_minor": 4
}
